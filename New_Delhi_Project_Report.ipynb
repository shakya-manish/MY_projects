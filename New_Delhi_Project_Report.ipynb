{
 "cells": [
  {
   "cell_type": "markdown",
   "metadata": {},
   "source": [
    "![Benjamin Bannekat](https://upload.wikimedia.org/wikipedia/commons/8/81/India_Gate%2C_New_Delhi_at_Night.jpg)"
   ]
  },
  {
   "cell_type": "markdown",
   "metadata": {},
   "source": [
    "# Part 1- Problem Description"
   ]
  },
  {
   "cell_type": "markdown",
   "metadata": {},
   "source": [
    "### 1.1 Background"
   ]
  },
  {
   "cell_type": "markdown",
   "metadata": {},
   "source": [
    "Tourism in India is important for the country's economy and is growing rapidly. The World Travel and Tourism Council calculated that tourism generated ₹16.91 lakh crore (US$240 billion) or 9.2% of India's GDP in 2018 and supported 42.673 million jobs, 8.1% of its total employment.[2] The sector is predicted to grow at an annual rate of 6.9% to ₹32.05 lakh crore (US$460 billion) by 2028 (9.9% of GDP). In October 2015, India's medical tourism sector was estimated to be worth US$3 billion, and it is projected to grow to US$7–8 billion by 2020.In 2014, 184,298 foreign patients traveled to India to seek medical treatment"
   ]
  },
  {
   "cell_type": "markdown",
   "metadata": {},
   "source": [
    "The Travel and Tourism Competitiveness Report for the year 2017, ranked India 40th out of 136 countries overall. The report ranks the price competitiveness of India's tourism sector 10th out of 136 countries. It mentions that India has quite good air transport (ranked 32nd), particularly given the country's stage of development, and reasonable ground transport infrastructure (ranked 29th). The country also scores high on natural and cultural resources (ranked 9th). However, some other aspects of its tourism infrastructure remain somewhat underdeveloped. The nation has many hotel rooms per capita by international comparison and low ATM penetration.The World Tourism Organization reported that India's receipts from tourism during 2012 ranked 16th in the world, and 7th among Asian and Pacific countries."
   ]
  },
  {
   "cell_type": "markdown",
   "metadata": {},
   "source": [
    "### 1.2 Problem"
   ]
  },
  {
   "cell_type": "markdown",
   "metadata": {},
   "source": [
    "It is possible to use data such as the longitudes and latitudes of these sites to plot a visual representation of where they are on the New Delhi (INDIA) map to make planning trips to INDIA easier. It can also help to spot what various places like restaurants, clubs, and tourist attracions around these sites which will make it easier for a tourist to select which sites to see. The data again allows a way to group the sites into categories as well and recommend which sites a customer would enjoy based on the category they select."
   ]
  },
  {
   "cell_type": "markdown",
   "metadata": {},
   "source": [
    "### 1.3 Interest"
   ]
  },
  {
   "cell_type": "markdown",
   "metadata": {},
   "source": [
    "The Ministry of Tourism, a branch of the Government of India, would be very interested to know that we are helping to make INDIA a more attractive and favourite  destination for travellers all around the world.\n",
    "\n",
    "AND the people who are travelling to INDIA would also be interested to know that there is a way to make their planning more easier and happier."
   ]
  },
  {
   "cell_type": "markdown",
   "metadata": {},
   "source": [
    "# Part 2: Data\n",
    "### 2.1 Data sources\n",
    "It is difficult to get all the data at a single place. Most of the longitudes and latitudes of the famous sites can be found on the Internet easily moreover some of places can be found on Google Maps. So i decided to use top websites to make the project data and to make project more comprehensive.\n",
    "\n",
    "We can also explore the data of the surrounding venues on the the Foursquare API. Hence Foursquare Api is the critical part of the data to get the near by venues.\n",
    "\n",
    "### 2.2 Data cleaning\n",
    "##### By using the FourSquare API we can easily get the folwing details about the nearby venues:\n",
    "\n",
    "1. 'Site', which refers to the name of the site\n",
    "2. 'Type', which refers to the category of the site\n",
    "3. 'Region', which refers to the location of the site\n",
    "4. 'Latitude', which refers to the latitude of the location\n",
    "5. 'Longitude', which refers to the longitude of the location\n",
    "6. 'Comments', which refers to the  statements about the location\n",
    "\n",
    "#### By using this data set we can easily sort the venues to visit. and which is the nearest venues from the person's location."
   ]
  },
  {
   "cell_type": "markdown",
   "metadata": {},
   "source": [
    "### 3. Methodology\n",
    "\n",
    "All steps are referenced below in the Analysis section.\n",
    "\n",
    "The methodology will include:\n",
    "\n",
    "1. Loading each data set\n",
    "2. Examine the each site.\n",
    "3. Pivot the map based on the sites.\n",
    "4. Calling Four Square API to collect the nearby venues.\n",
    "5. Perform k-means statistical analysis on venues by locations.\n",
    "6. Pivot all the venues on the New Delhi Map."
   ]
  },
  {
   "cell_type": "markdown",
   "metadata": {},
   "source": [
    "### 4. Results\n",
    "\n",
    "ScreenShot of the final result of the project."
   ]
  },
  {
   "cell_type": "markdown",
   "metadata": {},
   "source": [
    "![alt text](https://raw.githubusercontent.com/shakya-manish/MY_projects/master/result.png)\n"
   ]
  },
  {
   "cell_type": "markdown",
   "metadata": {},
   "source": [
    "Results of the dataset scrapped from the FourSquare API\n",
    "![](https://raw.githubusercontent.com/shakya-manish/MY_projects/master/dataset.png)"
   ]
  },
  {
   "cell_type": "markdown",
   "metadata": {},
   "source": [
    "### 5. Discussion and Recommendations\n",
    "\n",
    "First, there was not a conclusive dataset and finding the data was a challenge.\n",
    "\n",
    "The Data Set enables us to gain an understanding of the nearby venues of the given latitude and longitude.\n",
    "\n",
    "This project was the most interesting thing throughout the course and it also allowed me to explore my interests in the field of data.\n",
    "\n",
    "This project was the first time I used the Folium and FourSquare API and it provided a way for me to understand Python APIS even further.\n",
    "\n",
    "### Conclusion\n",
    "\n",
    "Using a combination of datasets from the Internet and Foursquare venue data we were able to analyze, discover and describe , various venues, by locations of latitude & longitude.\n",
    "\n",
    "This project will help the Visitors to explore the nearby venues and will make their trip ease."
   ]
  },
  {
   "cell_type": "code",
   "execution_count": null,
   "metadata": {},
   "outputs": [],
   "source": []
  }
 ],
 "metadata": {
  "kernelspec": {
   "display_name": "Python 3",
   "language": "python",
   "name": "python3"
  },
  "language_info": {
   "codemirror_mode": {
    "name": "ipython",
    "version": 3
   },
   "file_extension": ".py",
   "mimetype": "text/x-python",
   "name": "python",
   "nbconvert_exporter": "python",
   "pygments_lexer": "ipython3",
   "version": "3.7.3"
  }
 },
 "nbformat": 4,
 "nbformat_minor": 2
}
