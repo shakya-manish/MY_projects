{
 "cells": [
  {
   "cell_type": "markdown",
   "metadata": {},
   "source": [
    "![Benjamin Bannekat](https://upload.wikimedia.org/wikipedia/commons/8/81/India_Gate%2C_New_Delhi_at_Night.jpg)"
   ]
  },
  {
   "cell_type": "markdown",
   "metadata": {},
   "source": [
    "# Part 1- Problem Description"
   ]
  },
  {
   "cell_type": "markdown",
   "metadata": {},
   "source": [
    "### 1.1 Background"
   ]
  },
  {
   "cell_type": "markdown",
   "metadata": {},
   "source": [
    "Tourism in India is important for the country's economy and is growing rapidly. The World Travel and Tourism Council calculated that tourism generated ₹16.91 lakh crore (US$240 billion) or 9.2% of India's GDP in 2018 and supported 42.673 million jobs, 8.1% of its total employment.[2] The sector is predicted to grow at an annual rate of 6.9% to ₹32.05 lakh crore (US$460 billion) by 2028 (9.9% of GDP). In October 2015, India's medical tourism sector was estimated to be worth US$3 billion, and it is projected to grow to US$7–8 billion by 2020.In 2014, 184,298 foreign patients traveled to India to seek medical treatment"
   ]
  },
  {
   "cell_type": "markdown",
   "metadata": {},
   "source": [
    "The Travel and Tourism Competitiveness Report for the year 2017, ranked India 40th out of 136 countries overall. The report ranks the price competitiveness of India's tourism sector 10th out of 136 countries. It mentions that India has quite good air transport (ranked 32nd), particularly given the country's stage of development, and reasonable ground transport infrastructure (ranked 29th). The country also scores high on natural and cultural resources (ranked 9th). However, some other aspects of its tourism infrastructure remain somewhat underdeveloped. The nation has many hotel rooms per capita by international comparison and low ATM penetration.The World Tourism Organization reported that India's receipts from tourism during 2012 ranked 16th in the world, and 7th among Asian and Pacific countries."
   ]
  },
  {
   "cell_type": "markdown",
   "metadata": {},
   "source": [
    "### 1.2 Problem"
   ]
  },
  {
   "cell_type": "markdown",
   "metadata": {},
   "source": [
    "It is possible to use data such as the longitudes and latitudes of these sites to plot a visual representation of where they are on the New Delhi (INDIA) map to make planning trips to INDIA easier. It can also help to spot what various places like restaurants, clubs, and tourist attracions around these sites which will make it easier for a tourist to select which sites to see. The data again allows a way to group the sites into categories as well and recommend which sites a customer would enjoy based on the category they select."
   ]
  },
  {
   "cell_type": "markdown",
   "metadata": {},
   "source": [
    "### 1.3 Interest"
   ]
  },
  {
   "cell_type": "markdown",
   "metadata": {},
   "source": [
    "The Ministry of Tourism, a branch of the Government of India, would be very interested to know that we are helping to make INDIA a more attractive and favourite  destination for travellers all around the world.\n",
    "\n",
    "AND the people who are travelling to INDIA would also be interested to know that there is a way to make their planning more easier and happier."
   ]
  },
  {
   "cell_type": "code",
   "execution_count": 3,
   "metadata": {},
   "outputs": [
    {
     "data": {
      "text/plain": [
       "'C:\\\\Users\\\\hp'"
      ]
     },
     "execution_count": 3,
     "metadata": {},
     "output_type": "execute_result"
    }
   ],
   "source": [
    "pwd"
   ]
  },
  {
   "cell_type": "code",
   "execution_count": null,
   "metadata": {},
   "outputs": [],
   "source": []
  }
 ],
 "metadata": {
  "kernelspec": {
   "display_name": "Python 3",
   "language": "python",
   "name": "python3"
  },
  "language_info": {
   "codemirror_mode": {
    "name": "ipython",
    "version": 3
   },
   "file_extension": ".py",
   "mimetype": "text/x-python",
   "name": "python",
   "nbconvert_exporter": "python",
   "pygments_lexer": "ipython3",
   "version": "3.7.3"
  }
 },
 "nbformat": 4,
 "nbformat_minor": 2
}
